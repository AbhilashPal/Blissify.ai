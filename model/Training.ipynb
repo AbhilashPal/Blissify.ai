{
 "cells": [
  {
   "cell_type": "code",
   "execution_count": 20,
   "metadata": {},
   "outputs": [],
   "source": [
    "from keras.utils import np_utils\n",
    "from __future__ import print_function\n",
    "import keras\n",
    "from keras.models import Sequential\n",
    "from keras.layers import Dense, Dropout, Flatten, Activation\n",
    "from keras.layers import Conv2D, MaxPooling2D\n",
    "from keras import backend as K\n",
    "import numpy as np"
   ]
  },
  {
   "cell_type": "code",
   "execution_count": 2,
   "metadata": {},
   "outputs": [],
   "source": [
    "import pickle\n",
    "pickle_in = open(\"cleandata.pickle\",\"rb\")\n",
    "dicta = pickle.load(pickle_in)\n",
    "X = dicta['x']\n",
    "Y = dicta['y']\n",
    "nb_classes = 8\n",
    "X\n",
    "X = np.array(X)"
   ]
  },
  {
   "cell_type": "code",
   "execution_count": 3,
   "metadata": {},
   "outputs": [
    {
     "data": {
      "text/plain": [
       "array([[[  9,  22,  30, ...,  33,  42,  43],\n",
       "        [  9,  18,  29, ...,  32,  41,  43],\n",
       "        [ 10,  28,  37, ...,  32,  39,  43],\n",
       "        ...,\n",
       "        [169, 174, 173, ...,  53,  55,  64],\n",
       "        [167, 175, 174, ...,  52,  56,  69],\n",
       "        [162, 172, 174, ...,  53,  56,  67]],\n",
       "\n",
       "       [[ 11,   8,  11, ...,  75,  81,  89],\n",
       "        [ 12,  11,  16, ...,  67,  77,  83],\n",
       "        [ 12,  13,  21, ...,  81,  88,  89],\n",
       "        ...,\n",
       "        [ 47,  64,  70, ...,  33,  38,  31],\n",
       "        [ 41,  48,  64, ...,  31,  34,  29],\n",
       "        [ 52,  40,  49, ...,  43,  39,  35]],\n",
       "\n",
       "       [[ 92,  93,  93, ..., 107, 107, 106],\n",
       "        [ 92,  91,  91, ..., 108, 107, 104],\n",
       "        [ 92,  91,  91, ..., 108, 105, 102],\n",
       "        ...,\n",
       "        [104, 107, 108, ...,  90,  95, 104],\n",
       "        [103, 107, 110, ...,  95, 105, 116],\n",
       "        [102, 107, 110, ..., 108, 118, 127]],\n",
       "\n",
       "       ...,\n",
       "\n",
       "       [[ 39,  19,  21, ..., 100,  95,  97],\n",
       "        [ 13,  30,  44, ..., 100,  95,  99],\n",
       "        [ 18,  36,  44, ...,  98,  99,  99],\n",
       "        ...,\n",
       "        [ 25,  28,  29, ...,   8,  13,  22],\n",
       "        [ 24,  30,  30, ...,   8,  12,  21],\n",
       "        [ 26,  29,  31, ...,   9,  12,  20]],\n",
       "\n",
       "       [[ 18,  19,  27, ..., 145, 136, 104],\n",
       "        [ 13,  18,  29, ..., 140, 144, 128],\n",
       "        [ 20,  15,  36, ..., 147, 136, 130],\n",
       "        ...,\n",
       "        [ 13,  13,  13, ..., 127, 144, 183],\n",
       "        [ 15,  14,  13, ..., 137, 157, 182],\n",
       "        [ 14,  15,  14, ..., 135, 177, 197]],\n",
       "\n",
       "       [[ 21,  23,  25, ...,  22,  23,  25],\n",
       "        [ 25,  21,  23, ...,  22,  24,  25],\n",
       "        [ 28,  21,  21, ...,  23,  26,  24],\n",
       "        ...,\n",
       "        [232, 229, 227, ...,  15,  12,  15],\n",
       "        [242, 238, 239, ...,  15,  14,  15],\n",
       "        [238, 237, 241, ...,  15,  16,  14]]], dtype=uint8)"
      ]
     },
     "execution_count": 3,
     "metadata": {},
     "output_type": "execute_result"
    }
   ],
   "source": [
    "X"
   ]
  },
  {
   "cell_type": "code",
   "execution_count": 4,
   "metadata": {},
   "outputs": [
    {
     "name": "stdout",
     "output_type": "stream",
     "text": [
      "12758 12758\n"
     ]
    }
   ],
   "source": [
    "print(len(X),len(Y))"
   ]
  },
  {
   "cell_type": "code",
   "execution_count": 5,
   "metadata": {},
   "outputs": [
    {
     "data": {
      "text/plain": [
       "array([0, 3, 0, ..., 0, 3, 0])"
      ]
     },
     "execution_count": 5,
     "metadata": {},
     "output_type": "execute_result"
    }
   ],
   "source": [
    "label=[]\n",
    "for i in Y:\n",
    "    var = 0\n",
    "    if i==\"anger\":\n",
    "        var = 1\n",
    "    elif i==\"surprise\":\n",
    "        var = 2\n",
    "    elif i==\"happiness\":\n",
    "        var = 3\n",
    "    elif i ==\"neutral\":\n",
    "        var = 0\n",
    "    elif i==\"disgust\":\n",
    "        var = 4\n",
    "    elif i==\"fear\":\n",
    "        var = 5\n",
    "    elif i==\"contempt\":\n",
    "        var = 6\n",
    "    else: #sadness\n",
    "        var = 7 \n",
    "    label.append(var)\n",
    "Y = np.array(label)\n",
    "Y"
   ]
  },
  {
   "cell_type": "code",
   "execution_count": 6,
   "metadata": {},
   "outputs": [
    {
     "data": {
      "text/plain": [
       "array([[1., 0., 0., ..., 0., 0., 0.],\n",
       "       [0., 0., 0., ..., 0., 0., 0.],\n",
       "       [1., 0., 0., ..., 0., 0., 0.],\n",
       "       ...,\n",
       "       [1., 0., 0., ..., 0., 0., 0.],\n",
       "       [0., 0., 0., ..., 0., 0., 0.],\n",
       "       [1., 0., 0., ..., 0., 0., 0.]], dtype=float32)"
      ]
     },
     "execution_count": 6,
     "metadata": {},
     "output_type": "execute_result"
    }
   ],
   "source": [
    "y = np_utils.to_categorical(Y, nb_classes).astype(np.float32)\n",
    "y\n",
    "# prepare weighting for classes since they're unbalanced\n",
    "class_totals = y.sum(axis=0)\n",
    "class_weight = class_totals.max() / class_totals\n",
    "y"
   ]
  },
  {
   "cell_type": "code",
   "execution_count": 18,
   "metadata": {},
   "outputs": [
    {
     "data": {
      "text/plain": [
       "(64, 64, 1)"
      ]
     },
     "execution_count": 18,
     "metadata": {},
     "output_type": "execute_result"
    }
   ],
   "source": [
    "X=X.reshape(12758,64,64,1)\n",
    "X.shape[1:]"
   ]
  },
  {
   "cell_type": "code",
   "execution_count": 9,
   "metadata": {},
   "outputs": [
    {
     "data": {
      "text/plain": [
       "(12758, 8)"
      ]
     },
     "execution_count": 9,
     "metadata": {},
     "output_type": "execute_result"
    }
   ],
   "source": [
    "y.shape"
   ]
  },
  {
   "cell_type": "markdown",
   "metadata": {},
   "source": [
    "Keras Model : "
   ]
  },
  {
   "cell_type": "code",
   "execution_count": 30,
   "metadata": {},
   "outputs": [
    {
     "name": "stdout",
     "output_type": "stream",
     "text": [
      "_________________________________________________________________\n",
      "Layer (type)                 Output Shape              Param #   \n",
      "=================================================================\n",
      "conv2d_20 (Conv2D)           (None, 62, 62, 32)        320       \n",
      "_________________________________________________________________\n",
      "activation_19 (Activation)   (None, 62, 62, 32)        0         \n",
      "_________________________________________________________________\n",
      "max_pooling2d_17 (MaxPooling (None, 31, 31, 32)        0         \n",
      "_________________________________________________________________\n",
      "conv2d_21 (Conv2D)           (None, 29, 29, 32)        9248      \n",
      "_________________________________________________________________\n",
      "activation_20 (Activation)   (None, 29, 29, 32)        0         \n",
      "_________________________________________________________________\n",
      "max_pooling2d_18 (MaxPooling (None, 14, 14, 32)        0         \n",
      "_________________________________________________________________\n",
      "conv2d_22 (Conv2D)           (None, 12, 12, 64)        18496     \n",
      "_________________________________________________________________\n",
      "activation_21 (Activation)   (None, 12, 12, 64)        0         \n",
      "_________________________________________________________________\n",
      "max_pooling2d_19 (MaxPooling (None, 6, 6, 64)          0         \n",
      "_________________________________________________________________\n",
      "conv2d_23 (Conv2D)           (None, 4, 4, 64)          36928     \n",
      "_________________________________________________________________\n",
      "activation_22 (Activation)   (None, 4, 4, 64)          0         \n",
      "_________________________________________________________________\n",
      "max_pooling2d_20 (MaxPooling (None, 2, 2, 64)          0         \n",
      "_________________________________________________________________\n",
      "flatten_7 (Flatten)          (None, 256)               0         \n",
      "_________________________________________________________________\n",
      "dense_13 (Dense)             (None, 128)               32896     \n",
      "_________________________________________________________________\n",
      "activation_23 (Activation)   (None, 128)               0         \n",
      "_________________________________________________________________\n",
      "dropout_7 (Dropout)          (None, 128)               0         \n",
      "_________________________________________________________________\n",
      "dense_14 (Dense)             (None, 8)                 1032      \n",
      "=================================================================\n",
      "Total params: 98,920\n",
      "Trainable params: 98,920\n",
      "Non-trainable params: 0\n",
      "_________________________________________________________________\n"
     ]
    }
   ],
   "source": [
    "nb_filters = 32\n",
    "nb_pool = 2\n",
    "nb_conv = 3\n",
    "\n",
    "model = Sequential()\n",
    "model.add(Conv2D(32, (3, 3), input_shape=X.shape[1:]))\n",
    "model.add(Activation('relu'))\n",
    "model.add(MaxPooling2D(pool_size=(2, 2)))\n",
    "\n",
    "model.add(Conv2D(32, (3, 3)))\n",
    "model.add(Activation('relu'))\n",
    "model.add(MaxPooling2D(pool_size=(2, 2)))\n",
    "\n",
    "model.add(Conv2D(64, (3, 3)))\n",
    "model.add(Activation('relu'))\n",
    "model.add(MaxPooling2D(pool_size=(2, 2)))\n",
    "\n",
    "model.add(Conv2D(64, (3, 3)))\n",
    "model.add(Activation('relu'))\n",
    "model.add(MaxPooling2D(pool_size=(2, 2)))\n",
    "\n",
    "model.add(Flatten())  # this converts our 3D feature maps to 1D feature vectors\n",
    "model.add(Dense(128))\n",
    "model.add(Activation('relu'))\n",
    "model.add(Dropout(0.5))\n",
    "model.add(Dense(nb_classes, activation='softmax'))\n",
    "\n",
    "\n",
    "model.compile(loss='categorical_crossentropy', optimizer='adam', metrics=['accuracy'])\n",
    "model.summary()"
   ]
  },
  {
   "cell_type": "code",
   "execution_count": 31,
   "metadata": {},
   "outputs": [
    {
     "name": "stdout",
     "output_type": "stream",
     "text": [
      "Train on 11482 samples, validate on 1276 samples\n",
      "Epoch 1/10\n",
      "11482/11482 [==============================] - 15s 1ms/step - loss: 1.0244 - acc: 0.6147 - val_loss: 0.6726 - val_acc: 0.7578\n",
      "Epoch 2/10\n",
      "11482/11482 [==============================] - 14s 1ms/step - loss: 0.6911 - acc: 0.7683 - val_loss: 0.6940 - val_acc: 0.7821\n",
      "Epoch 3/10\n",
      "11482/11482 [==============================] - 15s 1ms/step - loss: 0.6187 - acc: 0.7932 - val_loss: 0.5976 - val_acc: 0.7876\n",
      "Epoch 4/10\n",
      "11482/11482 [==============================] - 16s 1ms/step - loss: 0.5948 - acc: 0.8024 - val_loss: 0.5585 - val_acc: 0.8143\n",
      "Epoch 5/10\n",
      "11482/11482 [==============================] - 16s 1ms/step - loss: 0.5636 - acc: 0.8101 - val_loss: 0.5683 - val_acc: 0.8049\n",
      "Epoch 6/10\n",
      "11482/11482 [==============================] - 15s 1ms/step - loss: 0.5873 - acc: 0.7902 - val_loss: 0.5308 - val_acc: 0.8221\n",
      "Epoch 7/10\n",
      "11482/11482 [==============================] - 15s 1ms/step - loss: 0.5392 - acc: 0.8188 - val_loss: 0.5687 - val_acc: 0.8119\n",
      "Epoch 8/10\n",
      "11482/11482 [==============================] - 16s 1ms/step - loss: 0.5281 - acc: 0.8232 - val_loss: 0.5797 - val_acc: 0.8135\n",
      "Epoch 9/10\n",
      "11482/11482 [==============================] - 16s 1ms/step - loss: 0.5138 - acc: 0.8262 - val_loss: 0.5396 - val_acc: 0.8150\n",
      "Epoch 10/10\n",
      "11482/11482 [==============================] - 17s 1ms/step - loss: 0.5097 - acc: 0.8292 - val_loss: 0.5767 - val_acc: 0.8002\n"
     ]
    },
    {
     "data": {
      "text/plain": [
       "<keras.callbacks.History at 0x22843280828>"
      ]
     },
     "execution_count": 31,
     "metadata": {},
     "output_type": "execute_result"
    }
   ],
   "source": [
    "validation_split = 0.10\n",
    "model.fit(X, y, batch_size=10, class_weight=class_weight, epochs=10, verbose=1, validation_split=validation_split)"
   ]
  },
  {
   "cell_type": "code",
   "execution_count": 24,
   "metadata": {},
   "outputs": [],
   "source": [
    "open('model.json', 'w').write(model.to_json())\n",
    "model.save_weights('weights.h5')"
   ]
  },
  {
   "cell_type": "code",
   "execution_count": 25,
   "metadata": {},
   "outputs": [
    {
     "data": {
      "image/png": "[encoded data removed]",
      "text/plain": [
       "<matplotlib.figure.Figure at 0x2283322eb70>"
      ]
     },
     "metadata": {},
     "output_type": "display_data"
    }
   ],
   "source": [
    "%matplotlib inline\n",
    "from matplotlib import pyplot as plt\n",
    "plt.plot(model.model.history.history['loss'])\n",
    "plt.plot(model.model.history.history['acc'])\n",
    "plt.plot(model.model.history.history['val_loss'])\n",
    "plt.plot(model.model.history.history['val_acc'])\n",
    "plt.show()"
   ]
  },
  {
   "cell_type": "code",
   "execution_count": null,
   "metadata": {},
   "outputs": [],
   "source": []
  },
  {
   "cell_type": "code",
   "execution_count": null,
   "metadata": {},
   "outputs": [],
   "source": []
  }
 ],
 "metadata": {
  "kernelspec": {
   "display_name": "Python 3",
   "language": "python",
   "name": "python3"
  },
  "language_info": {
   "codemirror_mode": {
    "name": "ipython",
    "version": 3
   },
   "file_extension": ".py",
   "mimetype": "text/x-python",
   "name": "python",
   "nbconvert_exporter": "python",
   "pygments_lexer": "ipython3",
   "version": "3.5.0"
  }
 },
 "nbformat": 4,
 "nbformat_minor": 2
}
