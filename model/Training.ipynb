{
 "cells": [
  {
   "cell_type": "code",
   "execution_count": 1,
   "metadata": {},
   "outputs": [
    {
     "name": "stderr",
     "output_type": "stream",
     "text": [
      "c:\\python35\\lib\\site-packages\\h5py\\__init__.py:36: FutureWarning: Conversion of the second argument of issubdtype from `float` to `np.floating` is deprecated. In future, it will be treated as `np.float64 == np.dtype(float).type`.\n",
      "  from ._conv import register_converters as _register_converters\n",
      "Using TensorFlow backend.\n"
     ]
    }
   ],
   "source": [
    "from keras.utils import np_utils\n",
    "from __future__ import print_function\n",
    "import keras\n",
    "from keras.models import Sequential\n",
    "from keras.layers import Dense, Dropout, Flatten\n",
    "from keras.layers import Conv2D, MaxPooling2D\n",
    "from keras import backend as K\n",
    "import numpy as np"
   ]
  },
  {
   "cell_type": "code",
   "execution_count": 3,
   "metadata": {},
   "outputs": [],
   "source": [
    "import pickle\n",
    "pickle_in = open(\"cleandata.pickle\",\"rb\")\n",
    "dicta = pickle.load(pickle_in)\n",
    "X = dicta['x']\n",
    "Y = dicta['y']\n",
    "nb_classes = 8\n",
    "X\n",
    "X = np.array(X)"
   ]
  },
  {
   "cell_type": "code",
   "execution_count": 4,
   "metadata": {},
   "outputs": [
    {
     "data": {
      "text/plain": [
       "array([[[  9,   9,   9, ...,  42,  41,  41],\n",
       "        [  9,   9,   9, ...,  41,  41,  41],\n",
       "        [  8,   8,   9, ...,  42,  41,  41],\n",
       "        ...,\n",
       "        [160, 160, 161, ...,  68,  69,  70],\n",
       "        [159, 159, 160, ...,  67,  69,  69],\n",
       "        [159, 159, 160, ...,  67,  69,  69]],\n",
       "\n",
       "       [[ 10,  10,  10, ...,  92,  93,  93],\n",
       "        [ 10,  10,  10, ...,  91,  92,  93],\n",
       "        [ 10,  10,  11, ...,  90,  91,  91],\n",
       "        ...,\n",
       "        [ 59,  58,  54, ...,  36,  36,  36],\n",
       "        [ 61,  60,  56, ...,  38,  39,  39],\n",
       "        [ 61,  60,  56, ...,  38,  39,  39]],\n",
       "\n",
       "       [[ 92,  92,  92, ..., 107, 107, 107],\n",
       "        [ 92,  92,  92, ..., 107, 107, 107],\n",
       "        [ 92,  92,  92, ..., 106, 106, 106],\n",
       "        ...,\n",
       "        [101, 101, 102, ..., 128, 129, 129],\n",
       "        [101, 101, 102, ..., 129, 130, 130],\n",
       "        [101, 101, 102, ..., 129, 130, 130]],\n",
       "\n",
       "       ...,\n",
       "\n",
       "       [[ 51,  51,  48, ...,  97,  97,  97],\n",
       "        [ 50,  50,  47, ...,  97,  97,  97],\n",
       "        [ 45,  45,  42, ...,  97,  97,  97],\n",
       "        ...,\n",
       "        [ 25,  25,  26, ...,  20,  22,  22],\n",
       "        [ 26,  26,  26, ...,  20,  22,  22],\n",
       "        [ 26,  26,  26, ...,  20,  22,  22]],\n",
       "\n",
       "       [[ 18,  18,  18, ...,  97,  93,  91],\n",
       "        [ 18,  17,  17, ...,  96,  92,  90],\n",
       "        [ 18,  17,  18, ..., 101,  97,  95],\n",
       "        ...,\n",
       "        [ 14,  14,  14, ..., 198, 197, 195],\n",
       "        [ 14,  14,  14, ..., 201, 200, 199],\n",
       "        [ 14,  14,  14, ..., 201, 201, 200]],\n",
       "\n",
       "       [[ 23,  23,  22, ...,  25,  25,  25],\n",
       "        [ 23,  23,  22, ...,  25,  25,  25],\n",
       "        [ 23,  23,  22, ...,  25,  25,  25],\n",
       "        ...,\n",
       "        [241, 241, 239, ...,  14,  14,  14],\n",
       "        [240, 240, 239, ...,  14,  14,  14],\n",
       "        [240, 240, 239, ...,  14,  14,  14]]], dtype=uint8)"
      ]
     },
     "execution_count": 4,
     "metadata": {},
     "output_type": "execute_result"
    }
   ],
   "source": [
    "X"
   ]
  },
  {
   "cell_type": "code",
   "execution_count": 5,
   "metadata": {},
   "outputs": [
    {
     "name": "stdout",
     "output_type": "stream",
     "text": [
      "12758 12758\n"
     ]
    }
   ],
   "source": [
    "print(len(X),len(Y))"
   ]
  },
  {
   "cell_type": "code",
   "execution_count": 6,
   "metadata": {},
   "outputs": [
    {
     "data": {
      "text/plain": [
       "array([0, 3, 0, ..., 0, 3, 0])"
      ]
     },
     "execution_count": 6,
     "metadata": {},
     "output_type": "execute_result"
    }
   ],
   "source": [
    "label=[]\n",
    "for i in Y:\n",
    "    var = 0\n",
    "    if i==\"anger\":\n",
    "        var = 1\n",
    "    elif i==\"surprise\":\n",
    "        var = 2\n",
    "    elif i==\"happiness\":\n",
    "        var = 3\n",
    "    elif i ==\"neutral\":\n",
    "        var = 0\n",
    "    elif i==\"disgust\":\n",
    "        var = 4\n",
    "    elif i==\"fear\":\n",
    "        var = 5\n",
    "    elif i==\"contempt\":\n",
    "        var = 6\n",
    "    else: #sadness\n",
    "        var = 7 \n",
    "    label.append(var)\n",
    "Y = np.array(label)\n",
    "Y"
   ]
  },
  {
   "cell_type": "code",
   "execution_count": 7,
   "metadata": {},
   "outputs": [
    {
     "data": {
      "text/plain": [
       "array([[1., 0., 0., ..., 0., 0., 0.],\n",
       "       [0., 0., 0., ..., 0., 0., 0.],\n",
       "       [1., 0., 0., ..., 0., 0., 0.],\n",
       "       ...,\n",
       "       [1., 0., 0., ..., 0., 0., 0.],\n",
       "       [0., 0., 0., ..., 0., 0., 0.],\n",
       "       [1., 0., 0., ..., 0., 0., 0.]], dtype=float32)"
      ]
     },
     "execution_count": 7,
     "metadata": {},
     "output_type": "execute_result"
    }
   ],
   "source": [
    "y = np_utils.to_categorical(Y, nb_classes).astype(np.float32)\n",
    "y\n",
    "# prepare weighting for classes since they're unbalanced\n",
    "class_totals = y.sum(axis=0)\n",
    "class_weight = class_totals.max() / class_totals\n",
    "y"
   ]
  },
  {
   "cell_type": "code",
   "execution_count": 8,
   "metadata": {},
   "outputs": [
    {
     "data": {
      "text/plain": [
       "(12758, 350, 350, 1)"
      ]
     },
     "execution_count": 8,
     "metadata": {},
     "output_type": "execute_result"
    }
   ],
   "source": [
    "X=X.reshape(12758,350,350,1)\n",
    "X.shape"
   ]
  },
  {
   "cell_type": "code",
   "execution_count": 9,
   "metadata": {},
   "outputs": [
    {
     "data": {
      "text/plain": [
       "(12758, 8)"
      ]
     },
     "execution_count": 9,
     "metadata": {},
     "output_type": "execute_result"
    }
   ],
   "source": [
    "y.shape"
   ]
  },
  {
   "cell_type": "markdown",
   "metadata": {},
   "source": [
    "Keras Model : "
   ]
  },
  {
   "cell_type": "code",
   "execution_count": 10,
   "metadata": {},
   "outputs": [
    {
     "name": "stdout",
     "output_type": "stream",
     "text": [
      "_________________________________________________________________\n",
      "Layer (type)                 Output Shape              Param #   \n",
      "=================================================================\n",
      "conv2d_1 (Conv2D)            (None, 348, 348, 32)      320       \n",
      "_________________________________________________________________\n",
      "conv2d_2 (Conv2D)            (None, 346, 346, 32)      9248      \n",
      "_________________________________________________________________\n",
      "max_pooling2d_1 (MaxPooling2 (None, 173, 173, 32)      0         \n",
      "_________________________________________________________________\n",
      "dropout_1 (Dropout)          (None, 173, 173, 32)      0         \n",
      "_________________________________________________________________\n",
      "flatten_1 (Flatten)          (None, 957728)            0         \n",
      "_________________________________________________________________\n",
      "dense_1 (Dense)              (None, 128)               122589312 \n",
      "_________________________________________________________________\n",
      "dropout_2 (Dropout)          (None, 128)               0         \n",
      "_________________________________________________________________\n",
      "dense_2 (Dense)              (None, 8)                 1032      \n",
      "=================================================================\n",
      "Total params: 122,599,912\n",
      "Trainable params: 122,599,912\n",
      "Non-trainable params: 0\n",
      "_________________________________________________________________\n"
     ]
    }
   ],
   "source": [
    "nb_filters = 32\n",
    "nb_pool = 2\n",
    "nb_conv = 3\n",
    "\n",
    "model = Sequential()\n",
    "\n",
    "model.add(Conv2D(nb_filters, (nb_conv, nb_conv), activation='relu', input_shape=X.shape[1:]))\n",
    "model.add(Conv2D(nb_filters, (nb_conv, nb_conv), activation='relu'))\n",
    "model.add(MaxPooling2D(pool_size=(nb_pool, nb_pool)))\n",
    "model.add(Dropout(0.25))\n",
    "model.add(Flatten())\n",
    "model.add(Dense(128, activation='relu'))\n",
    "model.add(Dropout(0.5))\n",
    "model.add(Dense(nb_classes, activation='softmax'))\n",
    "\n",
    "model.compile(loss='categorical_crossentropy', optimizer='adam', metrics=['accuracy'])\n",
    "model.summary()"
   ]
  },
  {
   "cell_type": "code",
   "execution_count": null,
   "metadata": {},
   "outputs": [
    {
     "name": "stdout",
     "output_type": "stream",
     "text": [
      "Train on 11482 samples, validate on 1276 samples\n",
      "Epoch 1/5\n"
     ]
    }
   ],
   "source": [
    "validation_split = 0.10\n",
    "model.fit(X, y, batch_size=10, class_weight=class_weight, epochs=5, verbose=1, validation_split=validation_split)"
   ]
  },
  {
   "cell_type": "code",
   "execution_count": null,
   "metadata": {},
   "outputs": [],
   "source": []
  }
 ],
 "metadata": {
  "kernelspec": {
   "display_name": "Python 3",
   "language": "python",
   "name": "python3"
  },
  "language_info": {
   "codemirror_mode": {
    "name": "ipython",
    "version": 3
   },
   "file_extension": ".py",
   "mimetype": "text/x-python",
   "name": "python",
   "nbconvert_exporter": "python",
   "pygments_lexer": "ipython3",
   "version": "3.5.0"
  }
 },
 "nbformat": 4,
 "nbformat_minor": 2
}
